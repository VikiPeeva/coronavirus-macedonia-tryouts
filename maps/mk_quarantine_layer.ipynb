{
 "cells": [
  {
   "cell_type": "code",
   "execution_count": 1,
   "metadata": {},
   "outputs": [],
   "source": [
    "from ipyleaflet import Map, Marker, Icon, CircleMarker, MarkerCluster, AwesomeIcon, Popup, basemaps, basemap_to_tiles\n",
    "from ipywidgets import HTML\n",
    "\n",
    "import pandas as pd\n",
    "import map_methods\n",
    "import math"
   ]
  },
  {
   "cell_type": "code",
   "execution_count": 4,
   "metadata": {},
   "outputs": [
    {
     "name": "stdout",
     "output_type": "stream",
     "text": [
      "['Дебар' 'Центар Жупа']\n"
     ]
    },
    {
     "data": {
      "application/vnd.jupyter.widget-view+json": {
       "model_id": "52c3e1f8bd314d9da0fcd89a9b66bc6f",
       "version_major": 2,
       "version_minor": 0
      },
      "text/plain": [
       "Map(center=[41.6086, 21.7453], controls=(ZoomControl(options=['position', 'zoom_in_text', 'zoom_in_title', 'zo…"
      ]
     },
     "metadata": {},
     "output_type": "display_data"
    }
   ],
   "source": [
    "m = map_methods.get_macedonia_map()\n",
    "\n",
    "quarantine_df = pd.read_csv(\"../podatoci/mkcitiesborder.csv\")\n",
    "places = quarantine_df['Place'].unique()\n",
    "\n",
    "print(places)\n",
    "\n",
    "for place in places:\n",
    "    border_data = quarantine_df.loc[quarantine_df['Place']==place]\n",
    "    locations = map_methods.get_points_for_polygon_from_line_data(d=border_data, line_group='WayId', point_id='NodeId', lat='Latitude', lon='Longitude')\n",
    "    map_methods.add_polygon_layer(m=m, locations=locations, opacity=0.5, fill_color='red', fill_opacity=0.5, weight=1)\n",
    "#     boder_data = border_data.sort_values(by=['WayIndex', 'NodeIndex'])\n",
    "#     print(border_data)\n",
    "#     map_methods.add_polygon_layer(m=m, d=border_data, lat='Latitude', lon='Longitude')\n",
    "#     print(border_data)\n",
    "#     map_methods.add_polyline_layer(m=m, d=border_data, line_group='WayId', lat='Latitude', lon='Longitude', border_color='red')\n",
    "\n",
    "# quarantine_df = quarantine_df[quarantine_df['Place']=='Центар Жупа']\n",
    "# quarantine_df = quarantine_df.sort_values(by=['ID'])\n",
    "\n",
    "m"
   ]
  },
  {
   "cell_type": "code",
   "execution_count": null,
   "metadata": {},
   "outputs": [],
   "source": []
  }
 ],
 "metadata": {
  "kernelspec": {
   "display_name": "Python 3",
   "language": "python",
   "name": "python3"
  },
  "language_info": {
   "codemirror_mode": {
    "name": "ipython",
    "version": 3
   },
   "file_extension": ".py",
   "mimetype": "text/x-python",
   "name": "python",
   "nbconvert_exporter": "python",
   "pygments_lexer": "ipython3",
   "version": "3.8.2"
  }
 },
 "nbformat": 4,
 "nbformat_minor": 4
}
