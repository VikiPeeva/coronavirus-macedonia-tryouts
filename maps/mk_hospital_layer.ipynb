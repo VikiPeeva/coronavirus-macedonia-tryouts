{
 "cells": [
  {
   "cell_type": "code",
   "execution_count": 1,
   "metadata": {},
   "outputs": [],
   "source": [
    "from ipyleaflet import Map, Marker, Icon, MarkerCluster, AwesomeIcon, Popup, basemaps, basemap_to_tiles\n",
    "from ipywidgets import HTML\n",
    "\n",
    "import pandas as pd\n",
    "import map_methods\n",
    "import math"
   ]
  },
  {
   "cell_type": "code",
   "execution_count": 2,
   "metadata": {},
   "outputs": [],
   "source": [
    "hospital_data = pd.read_csv(\"../podatoci/AdditionalInfo-Hospitals.csv\")\n",
    "\n",
    "hospital_data['hospital'] = hospital_data.Hospital"
   ]
  },
  {
   "cell_type": "code",
   "execution_count": 3,
   "metadata": {},
   "outputs": [],
   "source": [
    "sick = pd.read_csv(\"../podatoci/Корона вирус податоци Македонија - Хоспитализирани.csv\", header=0,\n",
    "                 names=['hospital', \"date\", \"count\", \"age_range\"])\n",
    "\n",
    "recovered = pd.read_csv(\"../podatoci/Корона вирус податоци Македонија - Оздравени по Болница.csv\", header=0,\n",
    "                 names=['hospital', \"date\", \"count\", \"age_range\"])\n",
    "\n",
    "dead = pd.read_csv(\"../podatoci/Корона вирус податоци Македонија - Мртви по Болница.csv\", header=0,\n",
    "                 names=['hospital', \"date\", \"count\", \"age_range\"])\n",
    "\n",
    "\n",
    "sick_hospital = sick.groupby([\"hospital\"]).sum()\n",
    "recovered_hospital = recovered.groupby([\"hospital\"]).sum()\n",
    "dead_hospital = dead.groupby([\"hospital\"]).sum()"
   ]
  },
  {
   "cell_type": "code",
   "execution_count": null,
   "metadata": {},
   "outputs": [],
   "source": []
  },
  {
   "cell_type": "code",
   "execution_count": 4,
   "metadata": {},
   "outputs": [
    {
     "data": {
      "text/html": [
       "<div>\n",
       "<style scoped>\n",
       "    .dataframe tbody tr th:only-of-type {\n",
       "        vertical-align: middle;\n",
       "    }\n",
       "\n",
       "    .dataframe tbody tr th {\n",
       "        vertical-align: top;\n",
       "    }\n",
       "\n",
       "    .dataframe thead th {\n",
       "        text-align: right;\n",
       "    }\n",
       "</style>\n",
       "<table border=\"1\" class=\"dataframe\">\n",
       "  <thead>\n",
       "    <tr style=\"text-align: right;\">\n",
       "      <th></th>\n",
       "      <th>count_x</th>\n",
       "      <th>count_y</th>\n",
       "      <th>date</th>\n",
       "      <th>count</th>\n",
       "      <th>age_range</th>\n",
       "      <th>Hospital</th>\n",
       "      <th>Latitude</th>\n",
       "      <th>Longitude</th>\n",
       "    </tr>\n",
       "    <tr>\n",
       "      <th>hospital</th>\n",
       "      <th></th>\n",
       "      <th></th>\n",
       "      <th></th>\n",
       "      <th></th>\n",
       "      <th></th>\n",
       "      <th></th>\n",
       "      <th></th>\n",
       "      <th></th>\n",
       "    </tr>\n",
       "  </thead>\n",
       "  <tbody>\n",
       "    <tr>\n",
       "      <th>Клиника за инфективни болести Скопје</th>\n",
       "      <td>14</td>\n",
       "      <td>1.0</td>\n",
       "      <td>0.0</td>\n",
       "      <td>0.0</td>\n",
       "      <td>0.0</td>\n",
       "      <td>Клиника за инфективни болести Скопје</td>\n",
       "      <td>41.988005</td>\n",
       "      <td>21.425646</td>\n",
       "    </tr>\n",
       "    <tr>\n",
       "      <th>Општа болница Дебар</th>\n",
       "      <td>5</td>\n",
       "      <td>0.0</td>\n",
       "      <td>0.0</td>\n",
       "      <td>0.0</td>\n",
       "      <td>0.0</td>\n",
       "      <td>Општа болница Дебар</td>\n",
       "      <td>41.523717</td>\n",
       "      <td>20.523101</td>\n",
       "    </tr>\n",
       "  </tbody>\n",
       "</table>\n",
       "</div>"
      ],
      "text/plain": [
       "                                      count_x  count_y  date  count  \\\n",
       "hospital                                                              \n",
       "Клиника за инфективни болести Скопје       14      1.0   0.0    0.0   \n",
       "Општа болница Дебар                         5      0.0   0.0    0.0   \n",
       "\n",
       "                                      age_range  \\\n",
       "hospital                                          \n",
       "Клиника за инфективни болести Скопје        0.0   \n",
       "Општа болница Дебар                         0.0   \n",
       "\n",
       "                                                                  Hospital  \\\n",
       "hospital                                                                     \n",
       "Клиника за инфективни болести Скопје  Клиника за инфективни болести Скопје   \n",
       "Општа болница Дебар                                    Општа болница Дебар   \n",
       "\n",
       "                                       Latitude  Longitude  \n",
       "hospital                                                    \n",
       "Клиника за инфективни болести Скопје  41.988005  21.425646  \n",
       "Општа болница Дебар                   41.523717  20.523101  "
      ]
     },
     "execution_count": 4,
     "metadata": {},
     "output_type": "execute_result"
    }
   ],
   "source": [
    "merged = pd.merge(sick_hospital, recovered_hospital, on='hospital', how='outer')\n",
    "merged = pd.merge(merged, dead_hospital, on='hospital', how='outer')\n",
    "merged.fillna(0, inplace=True)\n",
    "merged = pd.merge(merged, hospital_data, on='hospital', how='inner')\n",
    "merged = merged.set_index(\"hospital\")\n",
    "merged"
   ]
  },
  {
   "cell_type": "code",
   "execution_count": 5,
   "metadata": {},
   "outputs": [
    {
     "data": {
      "application/vnd.jupyter.widget-view+json": {
       "model_id": "333199c0ae0444bfbdc1a4a77943829c",
       "version_major": 2,
       "version_minor": 0
      },
      "text/plain": [
       "Map(center=[41.6086, 21.7453], controls=(ZoomControl(options=['position', 'zoom_in_text', 'zoom_in_title', 'zo…"
      ]
     },
     "metadata": {},
     "output_type": "display_data"
    }
   ],
   "source": [
    "center=(41.6086, 21.7453)\n",
    "\n",
    "m = map_methods.get_macedonia_map()\n",
    "\n",
    "def hide_marker(name, row):\n",
    "    infected = row['count_x']\n",
    "    healed = row['count_y']\n",
    "    dead = row['count']\n",
    "    return (infected - healed - dead) < 1\n",
    "\n",
    "def get_marker(name, location, row):\n",
    "    infected = row['count_x']\n",
    "    healed = row['count_y']\n",
    "    dead = row['count']\n",
    "    current = infected - healed - dead\n",
    "    scale = math.log(current, 2)\n",
    "    hospital_icon = Icon(\n",
    "        icon_url='https://www.freeiconspng.com/uploads/ambulance-cross-hospital-icon-11.png',\n",
    "        icon_size=(10*scale, 10*scale),\n",
    "        icon_anchor=(5*scale, 5*scale),\n",
    "        popup_anchor=(0, -5*scale)\n",
    "    )\n",
    "    return Marker(location=location, draggable=False, icon=hospital_icon, z_index_offset=1000)\n",
    "\n",
    "map_methods.add_marker_layer(m=m, d=merged, \n",
    "                             cols=[\"count_x\", \"count_y\", \"count\"], \n",
    "                             names=[\"Заразени\", \"Излечени\" ,\"Мртви\"],\n",
    "                            get_marker=get_marker,\n",
    "                            hide_marker=hide_marker,\n",
    "                            lng='Longitude',\n",
    "                            lat='Latitude')\n",
    "\n",
    "m"
   ]
  },
  {
   "cell_type": "code",
   "execution_count": 6,
   "metadata": {},
   "outputs": [
    {
     "ename": "NameError",
     "evalue": "name 'text' is not defined",
     "output_type": "error",
     "traceback": [
      "\u001b[0;31m---------------------------------------------------------------------------\u001b[0m",
      "\u001b[0;31mNameError\u001b[0m                                 Traceback (most recent call last)",
      "\u001b[0;32m<ipython-input-6-aa785adca3fc>\u001b[0m in \u001b[0;36m<module>\u001b[0;34m\u001b[0m\n\u001b[0;32m----> 1\u001b[0;31m \u001b[0mtext\u001b[0m\u001b[0;34m\u001b[0m\u001b[0;34m\u001b[0m\u001b[0m\n\u001b[0m",
      "\u001b[0;31mNameError\u001b[0m: name 'text' is not defined"
     ]
    }
   ],
   "source": [
    "text"
   ]
  },
  {
   "cell_type": "code",
   "execution_count": null,
   "metadata": {},
   "outputs": [],
   "source": []
  },
  {
   "cell_type": "code",
   "execution_count": null,
   "metadata": {},
   "outputs": [],
   "source": []
  },
  {
   "cell_type": "code",
   "execution_count": null,
   "metadata": {},
   "outputs": [],
   "source": []
  }
 ],
 "metadata": {
  "kernelspec": {
   "display_name": "Python 3",
   "language": "python",
   "name": "python3"
  },
  "language_info": {
   "codemirror_mode": {
    "name": "ipython",
    "version": 3
   },
   "file_extension": ".py",
   "mimetype": "text/x-python",
   "name": "python",
   "nbconvert_exporter": "python",
   "pygments_lexer": "ipython3",
   "version": "3.7.6"
  },
  "widgets": {
   "application/vnd.jupyter.widget-state+json": {
    "state": {},
    "version_major": 2,
    "version_minor": 0
   }
  }
 },
 "nbformat": 4,
 "nbformat_minor": 4
}
