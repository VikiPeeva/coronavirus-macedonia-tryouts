{
 "cells": [
  {
   "cell_type": "code",
   "execution_count": 1,
   "metadata": {},
   "outputs": [],
   "source": [
    "from ipywidgets import Layout, Label, VBox, interact, fixed, IntSlider\n",
    "\n",
    "from ipyleaflet import Choropleth, LayerGroup, LayersControl\n",
    "import geopandas\n",
    "import numpy as np\n",
    "import json\n",
    "from branca.colormap import linear\n",
    "\n",
    "import map_methods\n",
    "import math\n"
   ]
  },
  {
   "cell_type": "code",
   "execution_count": 2,
   "metadata": {},
   "outputs": [],
   "source": [
    "covid_mk_cities = geopandas.read_file(\"covid.geojson\")"
   ]
  },
  {
   "cell_type": "code",
   "execution_count": null,
   "metadata": {},
   "outputs": [],
   "source": []
  },
  {
   "cell_type": "code",
   "execution_count": 3,
   "metadata": {},
   "outputs": [],
   "source": [
    "scale = np.log2((covid_mk_cities['count'] / (covid_mk_cities['population'] / 2000) + 1))\n",
    "idd = map(str, covid_mk_cities.index)\n",
    "covid_active = dict(zip(idd, scale))\n",
    "covid_mk_cities_geo_json = json.loads(covid_mk_cities.to_json())"
   ]
  },
  {
   "cell_type": "code",
   "execution_count": 4,
   "metadata": {
    "scrolled": false
   },
   "outputs": [],
   "source": [
    "colors = Choropleth(\n",
    "    geo_data=covid_mk_cities_geo_json,\n",
    "    choro_data=covid_active,\n",
    "    colormap=linear.YlOrRd_04,\n",
    "    border_color='black',\n",
    "    style={'fillOpacity': 0.5, 'weight': 0.05},\n",
    "    hover_style={'fillColor': 'grey' , 'fillOpacity': 0.3}\n",
    ")\n",
    "\n",
    "label = Label(layout=Layout(width='100%'))\n",
    "\n",
    "def hover_handler(event=None, feature=None, id=None, properties=None):\n",
    "#     label.value = properties['geounit']\n",
    "    label.value = properties['id'] + \" \" + str(properties['count'])"
   ]
  },
  {
   "cell_type": "code",
   "execution_count": 10,
   "metadata": {},
   "outputs": [
    {
     "data": {
      "application/vnd.jupyter.widget-view+json": {
       "model_id": "3cd15f715e5e489c9000082c218d52a8",
       "version_major": 2,
       "version_minor": 0
      },
      "text/plain": [
       "interactive(children=(IntSlider(value=0, continuous_update=False, description='zoom'), Output()), _dom_classes…"
      ]
     },
     "metadata": {},
     "output_type": "display_data"
    },
    {
     "data": {
      "text/plain": [
       "<function __main__.draw_map(zoom)>"
      ]
     },
     "execution_count": 10,
     "metadata": {},
     "output_type": "execute_result"
    }
   ],
   "source": [
    "def draw_map(zoom):\n",
    "    print(zoom)\n",
    "    m = map_methods.get_macedonia_map()\n",
    "    # hospitals = map_methods.marker_layer(d=covid_hospitals, \n",
    "    #                              cols=[\"count_x\", \"count_y\", \"count\"], \n",
    "    #                              names=[\"Заразени\", \"Излечени\" ,\"Мртви\"],\n",
    "    #                             get_marker=get_marker,\n",
    "    #                             hide_marker=hide_marker,\n",
    "    #                             lng='Longitude',\n",
    "    #                             lat='Latitude')\n",
    "    # layer_group = LayerGroup(layers=(colors))\n",
    "\n",
    "    colors.on_hover(hover_handler)\n",
    "    m.add_layer(colors)\n",
    "    # m.add_layer(geo_data)\n",
    "    m.add_control(LayersControl())\n",
    "\n",
    "\n",
    "    return VBox([m, label])\n",
    "    \n",
    "\n",
    "zoom_slider = IntSlider(continuous_update=False)\n",
    "    \n",
    "interact(draw_map, zoom=zoom_slider)"
   ]
  },
  {
   "cell_type": "code",
   "execution_count": null,
   "metadata": {},
   "outputs": [],
   "source": []
  }
 ],
 "metadata": {
  "kernelspec": {
   "display_name": "Python 3",
   "language": "python",
   "name": "python3"
  },
  "language_info": {
   "codemirror_mode": {
    "name": "ipython",
    "version": 3
   },
   "file_extension": ".py",
   "mimetype": "text/x-python",
   "name": "python",
   "nbconvert_exporter": "python",
   "pygments_lexer": "ipython3",
   "version": "3.7.6"
  }
 },
 "nbformat": 4,
 "nbformat_minor": 2
}
