{
 "cells": [
  {
   "cell_type": "code",
   "execution_count": 5,
   "metadata": {},
   "outputs": [
    {
     "data": {
      "application/vnd.jupyter.widget-view+json": {
       "model_id": "049719d59633429f99e11fdaea4998cd",
       "version_major": 2,
       "version_minor": 0
      },
      "text/plain": [
       "interactive(children=(IntSlider(value=1, description='x', max=3, min=-1), Output()), _dom_classes=('widget-int…"
      ]
     },
     "metadata": {},
     "output_type": "display_data"
    },
    {
     "data": {
      "text/plain": [
       "<function __main__.draw(x)>"
      ]
     },
     "execution_count": 5,
     "metadata": {},
     "output_type": "execute_result"
    }
   ],
   "source": [
    "from ipyleaflet import Map, Marker, basemaps, basemap_to_tiles\n",
    "from ipywidgets import interact\n",
    "\n",
    "def draw(x):\n",
    "\n",
    "    center=(41.6086, 21.7453)\n",
    "\n",
    "    m = Map(\n",
    "        layers=(basemap_to_tiles(basemaps.OpenStreetMap.Mapnik, \"2017-04-08\"), ),\n",
    "        center=center,\n",
    "        zoom=8\n",
    "    )\n",
    "\n",
    "    marker = Marker(location=center, draggable=True)\n",
    "    m.add_layer(marker);\n",
    "    \n",
    "    return m\n",
    "\n",
    "interact(draw, x=1)"
   ]
  },
  {
   "cell_type": "code",
   "execution_count": null,
   "metadata": {},
   "outputs": [],
   "source": []
  }
 ],
 "metadata": {
  "kernelspec": {
   "display_name": "Python 3",
   "language": "python",
   "name": "python3"
  },
  "language_info": {
   "codemirror_mode": {
    "name": "ipython",
    "version": 3
   },
   "file_extension": ".py",
   "mimetype": "text/x-python",
   "name": "python",
   "nbconvert_exporter": "python",
   "pygments_lexer": "ipython3",
   "version": "3.8.2"
  }
 },
 "nbformat": 4,
 "nbformat_minor": 2
}
