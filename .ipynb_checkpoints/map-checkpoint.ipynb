{
 "cells": [
  {
   "cell_type": "code",
   "execution_count": 36,
   "metadata": {},
   "outputs": [],
   "source": [
    "from ipyleaflet import Map, Marker, MarkerCluster, AwesomeIcon, Popup, basemaps, basemap_to_tiles\n",
    "from ipywidgets import HTML\n",
    "\n",
    "import pandas as pd"
   ]
  },
  {
   "cell_type": "code",
   "execution_count": 48,
   "metadata": {},
   "outputs": [],
   "source": [
    "def get_popup_html_message_for_hospital(name, count_sick, count_healthy, count_dead):\n",
    "    text ='<h2>' + name + '</h2>' + '<p><b>Заболени:</b>' + str(count_sick) + \"</p>\" + \"<p><b>Излечени:</b>\" + str(count_healthy) + \"</p>\" + \"<p><b>Мртви:</b>\" + str(count_dead) + \"</p>\"\n",
    "    message = HTML()\n",
    "    message.value = text\n",
    "    \n",
    "def get_popup_for_hospital(message):\n",
    "    popup = Popup(\n",
    "        child=message,\n",
    "        close_button=True,\n",
    "        auto_close=False,\n",
    "        close_on_escape_key=False\n",
    "    )\n",
    "    return popup"
   ]
  },
  {
   "cell_type": "code",
   "execution_count": 24,
   "metadata": {},
   "outputs": [
    {
     "data": {
      "text/html": [
       "<div>\n",
       "<style scoped>\n",
       "    .dataframe tbody tr th:only-of-type {\n",
       "        vertical-align: middle;\n",
       "    }\n",
       "\n",
       "    .dataframe tbody tr th {\n",
       "        vertical-align: top;\n",
       "    }\n",
       "\n",
       "    .dataframe thead th {\n",
       "        text-align: right;\n",
       "    }\n",
       "</style>\n",
       "<table border=\"1\" class=\"dataframe\">\n",
       "  <thead>\n",
       "    <tr style=\"text-align: right;\">\n",
       "      <th></th>\n",
       "      <th>Hospital</th>\n",
       "      <th>Longitude</th>\n",
       "      <th>Latitude</th>\n",
       "    </tr>\n",
       "  </thead>\n",
       "  <tbody>\n",
       "    <tr>\n",
       "      <th>0</th>\n",
       "      <td>Клиника за инфективни болести Скопје</td>\n",
       "      <td>41.988005</td>\n",
       "      <td>21.425646</td>\n",
       "    </tr>\n",
       "    <tr>\n",
       "      <th>1</th>\n",
       "      <td>Општа болница Дебар</td>\n",
       "      <td>41.523717</td>\n",
       "      <td>20.523101</td>\n",
       "    </tr>\n",
       "  </tbody>\n",
       "</table>\n",
       "</div>"
      ],
      "text/plain": [
       "                               Hospital  Longitude   Latitude\n",
       "0  Клиника за инфективни болести Скопје  41.988005  21.425646\n",
       "1                   Општа болница Дебар  41.523717  20.523101"
      ]
     },
     "execution_count": 24,
     "metadata": {},
     "output_type": "execute_result"
    }
   ],
   "source": [
    "hospital_data = pd.read_csv(\"podatoci/AdditionalInfo-Hospitals.csv\")\n",
    "\n",
    "hospital_data"
   ]
  },
  {
   "cell_type": "code",
   "execution_count": 31,
   "metadata": {},
   "outputs": [],
   "source": [
    "\n",
    "\n",
    "center=(41.6086, 21.7453)\n",
    "\n",
    "m = Map(\n",
    "    layers=(basemap_to_tiles(basemaps.OpenStreetMap.Mapnik, \"2017-04-08\"), ),\n",
    "    center=center,\n",
    "    zoom=8\n",
    ")\n",
    "\n",
    "hospital_icon = AwesomeIcon(\n",
    "    name='h-square',\n",
    "    marker_color='red',\n",
    "    icon_color='white',\n",
    "    spin=False\n",
    ")"
   ]
  },
  {
   "cell_type": "code",
   "execution_count": 49,
   "metadata": {},
   "outputs": [
    {
     "data": {
      "application/vnd.jupyter.widget-view+json": {
       "model_id": "c1cb545ae57743679e15fcf34110685e",
       "version_major": 2,
       "version_minor": 0
      },
      "text/plain": [
       "Map(center=[42.02889410108475, 21.813354492187504], controls=(ZoomControl(options=['position', 'zoom_in_text',…"
      ]
     },
     "metadata": {},
     "output_type": "display_data"
    }
   ],
   "source": [
    "\n",
    "# marker = Marker(location=center, draggable=False, icon=icon1)\n",
    "# m.add_layer(marker);\n",
    "hospital_list = list()\n",
    "\n",
    "message = HTML()\n",
    "message.value = get_popup_for_hospital_html_message(\"Klinika\", 4, 5, 1)\n",
    "\n",
    "\n",
    "for ind in hospital_data.index:\n",
    "    location = (hospital_data[\"Longitude\"][ind], hospital_data[\"Latitude\"][ind])\n",
    "    marker = Marker(location=location, draggable=False, icon=hospital_icon)\n",
    "    marker.popup = popup\n",
    "    hospital_list.append(marker)\n",
    "\n",
    "    \n",
    "    \n",
    "hospitals = MarkerCluster(markers=tuple(hospital_list))\n",
    "m.add_layer(hospitals)\n",
    "\n",
    "m\n"
   ]
  }
 ],
 "metadata": {
  "kernelspec": {
   "display_name": "Python 3",
   "language": "python",
   "name": "python3"
  },
  "language_info": {
   "codemirror_mode": {
    "name": "ipython",
    "version": 3
   },
   "file_extension": ".py",
   "mimetype": "text/x-python",
   "name": "python",
   "nbconvert_exporter": "python",
   "pygments_lexer": "ipython3",
   "version": "3.8.2"
  },
  "widgets": {
   "application/vnd.jupyter.widget-state+json": {
    "state": {
     "158c8adc86684e9a93b2a66804552b36": {
      "model_module": "jupyter-leaflet",
      "model_module_version": "^0.12.3",
      "model_name": "LeafletAttributionControlModel",
      "state": {
       "_model_module_version": "^0.12.3",
       "_view_module_version": "^0.12.3",
       "options": [
        "position",
        "prefix"
       ],
       "position": "bottomright",
       "prefix": "Leaflet"
      }
     },
     "42ca1a49bbbd43dca2914f7107b15941": {
      "model_module": "jupyter-leaflet",
      "model_module_version": "^0.12.3",
      "model_name": "LeafletMarkerModel",
      "state": {
       "_model_module_version": "^0.12.3",
       "_view_module_version": "^0.12.3",
       "location": [
        41.6086,
        21.7453
       ],
       "options": [
        "alt",
        "draggable",
        "keyboard",
        "rise_offset",
        "rise_on_hover",
        "rotation_angle",
        "rotation_origin",
        "title",
        "z_index_offset"
       ]
      }
     },
     "486a0f9f3b3c4067b30323eabd075f43": {
      "model_module": "@jupyter-widgets/base",
      "model_module_version": "1.2.0",
      "model_name": "LayoutModel",
      "state": {}
     },
     "5422bb70be8f4ed4a082e667d5249cce": {
      "model_module": "jupyter-leaflet",
      "model_module_version": "^0.12.3",
      "model_name": "LeafletMapStyleModel",
      "state": {
       "_model_module_version": "^0.12.3",
       "cursor": "move"
      }
     },
     "88a601dae14f43a7ae7ec102d9865f41": {
      "model_module": "jupyter-leaflet",
      "model_module_version": "^0.12.3",
      "model_name": "LeafletMapStyleModel",
      "state": {
       "_model_module_version": "^0.12.3"
      }
     },
     "9dc4c42b2ae94fbca77be969ffa5aa64": {
      "model_module": "jupyter-leaflet",
      "model_module_version": "^0.12.3",
      "model_name": "LeafletTileLayerModel",
      "state": {
       "_model_module_version": "^0.12.3",
       "_view_module_version": "^0.12.3",
       "max_native_zoom": 18,
       "max_zoom": 19,
       "min_native_zoom": 0,
       "min_zoom": 1,
       "name": "OpenStreetMap.Mapnik",
       "no_wrap": false,
       "options": [
        "attribution",
        "detect_retina",
        "max_native_zoom",
        "max_zoom",
        "min_native_zoom",
        "min_zoom",
        "no_wrap",
        "tile_size",
        "tms"
       ]
      }
     },
     "a3c545122e5f4574a6216ea628d6003b": {
      "model_module": "jupyter-leaflet",
      "model_module_version": "^0.12.3",
      "model_name": "LeafletZoomControlModel",
      "state": {
       "_model_module_version": "^0.12.3",
       "_view_module_version": "^0.12.3",
       "options": [
        "position",
        "zoom_in_text",
        "zoom_in_title",
        "zoom_out_text",
        "zoom_out_title"
       ]
      }
     },
     "d2f4dbc7d0334a6293455970fe97cb53": {
      "model_module": "jupyter-leaflet",
      "model_module_version": "^0.12.3",
      "model_name": "LeafletMapModel",
      "state": {
       "_model_module_version": "^0.12.3",
       "_view_module_version": "^0.12.3",
       "center": [
        41.6086,
        21.7453
       ],
       "controls": [
        "IPY_MODEL_a3c545122e5f4574a6216ea628d6003b",
        "IPY_MODEL_158c8adc86684e9a93b2a66804552b36"
       ],
       "default_style": "IPY_MODEL_88a601dae14f43a7ae7ec102d9865f41",
       "dragging_style": "IPY_MODEL_5422bb70be8f4ed4a082e667d5249cce",
       "east": 24.389648437500004,
       "fullscreen": false,
       "interpolation": "bilinear",
       "layers": [
        "IPY_MODEL_9dc4c42b2ae94fbca77be969ffa5aa64",
        "IPY_MODEL_42ca1a49bbbd43dca2914f7107b15941"
       ],
       "layout": "IPY_MODEL_486a0f9f3b3c4067b30323eabd075f43",
       "modisdate": "yesterday",
       "north": 42.42345651793833,
       "options": [
        "bounce_at_zoom_limits",
        "box_zoom",
        "center",
        "close_popup_on_click",
        "double_click_zoom",
        "dragging",
        "fullscreen",
        "inertia",
        "inertia_deceleration",
        "inertia_max_speed",
        "interpolation",
        "keyboard",
        "keyboard_pan_offset",
        "keyboard_zoom_offset",
        "max_zoom",
        "min_zoom",
        "scroll_wheel_zoom",
        "tap",
        "tap_tolerance",
        "touch_zoom",
        "world_copy_jump",
        "zoom",
        "zoom_animation_threshold",
        "zoom_start"
       ],
       "south": 40.78054143186033,
       "style": "IPY_MODEL_f7155ef694d34f9ba127df55ceba73ed",
       "west": 19.099731445312504,
       "zoom": 8
      }
     },
     "f7155ef694d34f9ba127df55ceba73ed": {
      "model_module": "jupyter-leaflet",
      "model_module_version": "^0.12.3",
      "model_name": "LeafletMapStyleModel",
      "state": {
       "_model_module_version": "^0.12.3"
      }
     }
    },
    "version_major": 2,
    "version_minor": 0
   }
  }
 },
 "nbformat": 4,
 "nbformat_minor": 4
}
