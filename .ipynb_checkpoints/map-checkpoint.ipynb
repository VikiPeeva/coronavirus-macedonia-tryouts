{
 "cells": [
  {
   "cell_type": "code",
   "execution_count": 1,
   "metadata": {},
   "outputs": [
    {
     "data": {
      "application/vnd.jupyter.widget-view+json": {
       "model_id": "d2f4dbc7d0334a6293455970fe97cb53",
       "version_major": 2,
       "version_minor": 0
      },
      "text/plain": [
       "Map(center=[41.6086, 21.7453], controls=(ZoomControl(options=['position', 'zoom_in_text', 'zoom_in_title', 'zo…"
      ]
     },
     "metadata": {},
     "output_type": "display_data"
    }
   ],
   "source": [
    "from ipyleaflet import Map, Marker, basemaps, basemap_to_tiles\n",
    "\n",
    "\n",
    "center=(41.6086, 21.7453)\n",
    "\n",
    "m = Map(\n",
    "    layers=(basemap_to_tiles(basemaps.OpenStreetMap.Mapnik, \"2017-04-08\"), ),\n",
    "    center=center,\n",
    "    zoom=8\n",
    ")\n",
    "\n",
    "marker = Marker(location=center, draggable=True)\n",
    "m.add_layer(marker);\n",
    "\n",
    "m"
   ]
  }
 ],
 "metadata": {
  "kernelspec": {
   "display_name": "Python 3",
   "language": "python",
   "name": "python3"
  },
  "language_info": {
   "codemirror_mode": {
    "name": "ipython",
    "version": 3
   },
   "file_extension": ".py",
   "mimetype": "text/x-python",
   "name": "python",
   "nbconvert_exporter": "python",
   "pygments_lexer": "ipython3",
   "version": "3.8.2"
  },
  "widgets": {
   "application/vnd.jupyter.widget-state+json": {
    "state": {
     "158c8adc86684e9a93b2a66804552b36": {
      "model_module": "jupyter-leaflet",
      "model_module_version": "^0.12.3",
      "model_name": "LeafletAttributionControlModel",
      "state": {
       "_model_module_version": "^0.12.3",
       "_view_module_version": "^0.12.3",
       "options": [
        "position",
        "prefix"
       ],
       "position": "bottomright",
       "prefix": "Leaflet"
      }
     },
     "42ca1a49bbbd43dca2914f7107b15941": {
      "model_module": "jupyter-leaflet",
      "model_module_version": "^0.12.3",
      "model_name": "LeafletMarkerModel",
      "state": {
       "_model_module_version": "^0.12.3",
       "_view_module_version": "^0.12.3",
       "location": [
        41.6086,
        21.7453
       ],
       "options": [
        "alt",
        "draggable",
        "keyboard",
        "rise_offset",
        "rise_on_hover",
        "rotation_angle",
        "rotation_origin",
        "title",
        "z_index_offset"
       ]
      }
     },
     "486a0f9f3b3c4067b30323eabd075f43": {
      "model_module": "@jupyter-widgets/base",
      "model_module_version": "1.2.0",
      "model_name": "LayoutModel",
      "state": {}
     },
     "5422bb70be8f4ed4a082e667d5249cce": {
      "model_module": "jupyter-leaflet",
      "model_module_version": "^0.12.3",
      "model_name": "LeafletMapStyleModel",
      "state": {
       "_model_module_version": "^0.12.3",
       "cursor": "move"
      }
     },
     "88a601dae14f43a7ae7ec102d9865f41": {
      "model_module": "jupyter-leaflet",
      "model_module_version": "^0.12.3",
      "model_name": "LeafletMapStyleModel",
      "state": {
       "_model_module_version": "^0.12.3"
      }
     },
     "9dc4c42b2ae94fbca77be969ffa5aa64": {
      "model_module": "jupyter-leaflet",
      "model_module_version": "^0.12.3",
      "model_name": "LeafletTileLayerModel",
      "state": {
       "_model_module_version": "^0.12.3",
       "_view_module_version": "^0.12.3",
       "max_native_zoom": 18,
       "max_zoom": 19,
       "min_native_zoom": 0,
       "min_zoom": 1,
       "name": "OpenStreetMap.Mapnik",
       "no_wrap": false,
       "options": [
        "attribution",
        "detect_retina",
        "max_native_zoom",
        "max_zoom",
        "min_native_zoom",
        "min_zoom",
        "no_wrap",
        "tile_size",
        "tms"
       ]
      }
     },
     "a3c545122e5f4574a6216ea628d6003b": {
      "model_module": "jupyter-leaflet",
      "model_module_version": "^0.12.3",
      "model_name": "LeafletZoomControlModel",
      "state": {
       "_model_module_version": "^0.12.3",
       "_view_module_version": "^0.12.3",
       "options": [
        "position",
        "zoom_in_text",
        "zoom_in_title",
        "zoom_out_text",
        "zoom_out_title"
       ]
      }
     },
     "d2f4dbc7d0334a6293455970fe97cb53": {
      "model_module": "jupyter-leaflet",
      "model_module_version": "^0.12.3",
      "model_name": "LeafletMapModel",
      "state": {
       "_model_module_version": "^0.12.3",
       "_view_module_version": "^0.12.3",
       "center": [
        41.6086,
        21.7453
       ],
       "controls": [
        "IPY_MODEL_a3c545122e5f4574a6216ea628d6003b",
        "IPY_MODEL_158c8adc86684e9a93b2a66804552b36"
       ],
       "default_style": "IPY_MODEL_88a601dae14f43a7ae7ec102d9865f41",
       "dragging_style": "IPY_MODEL_5422bb70be8f4ed4a082e667d5249cce",
       "east": 24.389648437500004,
       "fullscreen": false,
       "interpolation": "bilinear",
       "layers": [
        "IPY_MODEL_9dc4c42b2ae94fbca77be969ffa5aa64",
        "IPY_MODEL_42ca1a49bbbd43dca2914f7107b15941"
       ],
       "layout": "IPY_MODEL_486a0f9f3b3c4067b30323eabd075f43",
       "modisdate": "yesterday",
       "north": 42.42345651793833,
       "options": [
        "bounce_at_zoom_limits",
        "box_zoom",
        "center",
        "close_popup_on_click",
        "double_click_zoom",
        "dragging",
        "fullscreen",
        "inertia",
        "inertia_deceleration",
        "inertia_max_speed",
        "interpolation",
        "keyboard",
        "keyboard_pan_offset",
        "keyboard_zoom_offset",
        "max_zoom",
        "min_zoom",
        "scroll_wheel_zoom",
        "tap",
        "tap_tolerance",
        "touch_zoom",
        "world_copy_jump",
        "zoom",
        "zoom_animation_threshold",
        "zoom_start"
       ],
       "south": 40.78054143186033,
       "style": "IPY_MODEL_f7155ef694d34f9ba127df55ceba73ed",
       "west": 19.099731445312504,
       "zoom": 8
      }
     },
     "f7155ef694d34f9ba127df55ceba73ed": {
      "model_module": "jupyter-leaflet",
      "model_module_version": "^0.12.3",
      "model_name": "LeafletMapStyleModel",
      "state": {
       "_model_module_version": "^0.12.3"
      }
     }
    },
    "version_major": 2,
    "version_minor": 0
   }
  }
 },
 "nbformat": 4,
 "nbformat_minor": 4
}
