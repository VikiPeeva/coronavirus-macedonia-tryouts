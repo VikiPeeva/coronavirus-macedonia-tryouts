{
 "cells": [
  {
   "cell_type": "code",
   "execution_count": 2,
   "metadata": {},
   "outputs": [],
   "source": [
    "import pandas as pd\n",
    "# import nbinteract as nbi\n",
    "import numpy as np\n",
    "import matplotlib.pyplot as plt\n",
    "import matplotlib.ticker as ticker\n",
    "import seaborn as sns\n",
    "import ipywidgets as widgets\n",
    "from ipywidgets import interact, fixed\n",
    "\n",
    "%matplotlib inline"
   ]
  },
  {
   "cell_type": "code",
   "execution_count": 175,
   "metadata": {},
   "outputs": [],
   "source": [
    "all_data = pd.read_csv(\"https://raw.githubusercontent.com/CSSEGISandData/COVID-19/master/csse_covid_19_data/csse_covid_19_time_series/time_series_19-covid-Confirmed.csv\")\n",
    "all_data = all_data.replace('North Macedonia', 'Macedonia')\n",
    "all_data = all_data.drop(columns=['Province/State', 'Lat', 'Long'], axis=1)\n",
    "all_data = all_data.groupby(['Country/Region']).sum()\n",
    "all_data.reset_index(level=0, inplace=True)"
   ]
  },
  {
   "cell_type": "code",
   "execution_count": 177,
   "metadata": {},
   "outputs": [],
   "source": [
    "def get_data_by_country_name(data, country_column, country_name):\n",
    "    return data.loc[data[country_column] == country_name]\n",
    "\n",
    "\n",
    "def convert_data_in_day_count_larger_than_zero_format(data, id_vars, value_vars, var_name, value_name):\n",
    "    converted = pd.melt(data, id_vars=id_vars, value_vars=value_vars, var_name=var_name, value_name=value_name)\n",
    "    converted = converted.loc[converted[value_name] > 0].reset_index(drop=True)\n",
    "    converted.insert(0, 'artificial_day', range(1, 1 + len(converted)))\n",
    "    return converted.loc[converted[value_name] > 0].reset_index(drop=True)\n",
    "\n",
    "def get_data_for_country(data, name):\n",
    "    res = get_data_by_country_name(data=data, country_column='Country/Region', country_name=name)\n",
    "    res = convert_data_in_day_count_larger_than_zero_format(data=res, id_vars=res.columns[ : 1], value_vars=res.columns[2:], var_name='date', value_name='count')\n",
    "    return res\n"
   ]
  },
  {
   "cell_type": "code",
   "execution_count": 195,
   "metadata": {},
   "outputs": [],
   "source": [
    "def get_data_for_countries(data, countries):\n",
    "    data = [get_data_for_country(data, country) for country in countries]\n",
    "#     interesting_data = pd.concat([country_data.iloc[:comparable_days_count] for country_data in data])\n",
    "    return data\n",
    "\n",
    "def draw_line_plot(day_range, countries, data):\n",
    "    countries = list(countries)\n",
    "    if 'Macedonia' not in countries:\n",
    "        countries.insert(0, 'Macedonia')\n",
    "    figure = plt.figure(num='figure', figsize=(15,10))\n",
    "    from_day = day_range[0]\n",
    "    to_day = day_range[1]\n",
    "    data = get_data_for_countries(data, countries)\n",
    "    interesting_data = pd.concat([country_data.loc[(country_data['artificial_day'] >= from_day) & \n",
    "                                                   (country_data['artificial_day'] <= to_day)] \n",
    "                                  for country_data in data])\n",
    "\n",
    "    ax = plt.axes()\n",
    "    line_plot = sns.lineplot(x=\"artificial_day\", y=\"count\", hue='Country/Region',\n",
    "                             data=interesting_data, ax = ax)\n",
    "\n",
    "    line_plot.set(xlabel='Релативни денови од кога се појавил првиот случај во таа држава',\n",
    "                  ylabel='Број на заразени')\n",
    "    ax.legend().texts[0].set_text(\"Држава:\")\n",
    "    line_plot.xaxis.set_major_locator(ticker.MaxNLocator(integer=True))\n",
    "    line_plot.yaxis.set_major_locator(ticker.MaxNLocator(integer=True))\n",
    "    \n",
    "    plt.show()\n",
    "    \n",
    "    return line_plot\n"
   ]
  },
  {
   "cell_type": "code",
   "execution_count": 197,
   "metadata": {},
   "outputs": [
    {
     "data": {
      "application/vnd.jupyter.widget-view+json": {
       "model_id": "bbf9dd90006541c98d8eeb82c3af20a6",
       "version_major": 2,
       "version_minor": 0
      },
      "text/plain": [
       "interactive(children=(IntRangeSlider(value=(1, 20), continuous_update=False, description='Изберете ранг на ден…"
      ]
     },
     "metadata": {},
     "output_type": "display_data"
    }
   ],
   "source": [
    "style = {'description_width': 'initial'}\n",
    "layout = widgets.Layout(display='flex',\n",
    "                justify_content='center',\n",
    "                width='70%')\n",
    "\n",
    "\n",
    "day_range_chooser = widgets.IntRangeSlider(\n",
    "    value=[1, 20],\n",
    "    min=1,\n",
    "    max=len(all_data.columns) - 4,\n",
    "    step=1,\n",
    "    description='Изберете ранг на денови:',\n",
    "    disabled=False,\n",
    "    continuous_update=False,\n",
    "    orientation='horizontal',\n",
    "    readout=True,\n",
    "    readout_format='d',\n",
    "    style=style,\n",
    "    layout=layout\n",
    ")\n",
    "\n",
    "country_selector = widgets.SelectMultiple(\n",
    "    options=all_data['Country/Region'].unique(),\n",
    "    value=['Macedonia', 'Serbia', 'Albania', 'Greece', 'Bulgaria'],\n",
    "    description='Изберете држави што сакате да ги споредите:',\n",
    "    disabled=False,\n",
    "    style = style,\n",
    "    layout=layout\n",
    ")\n",
    "\n",
    "\n",
    "p = interact(draw_line_plot, day_range=day_range_chooser, countries=country_selector, data=fixed(all_data))"
   ]
  }
 ],
 "metadata": {
  "kernelspec": {
   "display_name": "Python 3",
   "language": "python",
   "name": "python3"
  },
  "language_info": {
   "codemirror_mode": {
    "name": "ipython",
    "version": 3
   },
   "file_extension": ".py",
   "mimetype": "text/x-python",
   "name": "python",
   "nbconvert_exporter": "python",
   "pygments_lexer": "ipython3",
   "version": "3.8.1"
  }
 },
 "nbformat": 4,
 "nbformat_minor": 2
}
