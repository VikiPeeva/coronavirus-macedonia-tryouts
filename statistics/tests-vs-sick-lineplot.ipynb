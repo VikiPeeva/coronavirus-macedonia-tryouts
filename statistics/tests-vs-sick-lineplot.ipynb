{
 "cells": [
  {
   "cell_type": "code",
   "execution_count": 13,
   "metadata": {},
   "outputs": [],
   "source": [
    "import pandas as pd\n",
    "# import nbinteract as nbi\n",
    "import numpy as np\n",
    "import matplotlib.pyplot as plt\n",
    "import matplotlib.ticker as ticker\n",
    "import seaborn as sns\n",
    "import ipywidgets as widgets\n",
    "from ipywidgets import interact, interactive, fixed, interact_manual\n",
    "from IPython.display import display\n",
    "# import mpld3\n",
    "from datetime import datetime, timedelta\n",
    "\n",
    "%matplotlib inline\n",
    "# mpld3.enable_notebook()"
   ]
  },
  {
   "cell_type": "code",
   "execution_count": 2,
   "metadata": {},
   "outputs": [],
   "source": [
    "sick = pd.read_csv(\"https://raw.githubusercontent.com/klupp/opendata/master/mk/covid19/datasets/infected_by_municipality.csv\")\n",
    "sick = sick.groupby('date')['count'].sum()"
   ]
  },
  {
   "cell_type": "code",
   "execution_count": 3,
   "metadata": {},
   "outputs": [],
   "source": [
    "tests = pd.read_csv(\"https://raw.githubusercontent.com/klupp/opendata/master/mk/covid19/datasets/tests_total.csv\")\n",
    "tests = tests.groupby('date')['count'].sum()"
   ]
  },
  {
   "cell_type": "code",
   "execution_count": 4,
   "metadata": {},
   "outputs": [],
   "source": [
    "percentage = sick.combine(tests, lambda scount, tcount: scount * 100.0 / tcount)\n",
    "percentage.fillna(0, inplace=True)"
   ]
  },
  {
   "cell_type": "code",
   "execution_count": 34,
   "metadata": {},
   "outputs": [],
   "source": [
    "# join the three datasets\n",
    "res = pd.concat([sick, tests, percentage], axis=1, keys=['Новозаразени', 'Тестирани', 'Процент'])\n",
    "\n",
    "# add missing dates\n",
    "yesterday = datetime.today() - timedelta(days=1)\n",
    "idx = pd.date_range('2020-02-15', datetime.date(yesterday))\n",
    "res.index = pd.DatetimeIndex(res.index)\n",
    "res = res.reindex(idx)\n",
    "\n",
    "res['date'] = res.index # get the index as date column\n",
    "res.reset_index(drop=True, inplace=True) # drop the index\n",
    "res.sort_values(by='date', inplace=True) # sort by the date column\n",
    "res.fillna(0, inplace=True) # fill nans with 0"
   ]
  },
  {
   "cell_type": "code",
   "execution_count": 35,
   "metadata": {},
   "outputs": [],
   "source": [
    "res_melt = pd.melt(res, id_vars=['date'], value_vars=['Новозаразени', 'Тестирани', 'Процент'])"
   ]
  },
  {
   "cell_type": "code",
   "execution_count": 87,
   "metadata": {},
   "outputs": [],
   "source": [
    "def draw_line_plot(date_range, line_visibility, data):\n",
    "    from_day = date_range[0]\n",
    "    to_day = date_range[1]\n",
    "    interesting_data = data.loc[(data['date'] >= from_day)\n",
    "                                & (data['date'] <= to_day)\n",
    "                                & data['variable'].isin(line_visibility)]\n",
    "\n",
    "    figure = plt.figure(num='figure', figsize=(15,10))\n",
    "    ax = plt.axes()\n",
    "    colors = list(sns.color_palette())\n",
    "    line_plot = sns.lineplot(x=\"date\", y=\"value\", hue='variable', data=interesting_data, style=\"variable\",\n",
    "                             markers=True, dashes=False, ax = ax,\n",
    "                             palette=dict(Новозаразени=colors[0], Тестирани=colors[1], Процент=colors[2]))\n",
    "    line_plot.set(xlabel='Датум', ylabel='')\n",
    "    ax.legend().texts[0].set_text(\"Легенда:\")\n",
    "    line_plot.xaxis.set_major_locator(ticker.MaxNLocator(integer=True))\n",
    "    line_plot.yaxis.set_major_locator(ticker.MaxNLocator(integer=True))\n",
    "    \n",
    "#     for line in line_plot.get_lines():\n",
    "#         labels = [x if isinstance(x, int) else round(x, 2) for x in line.get_ydata().tolist()]\n",
    "#         mpld3.plugins.connect(figure, mpld3.plugins.PointLabelTooltip(line, labels=labels))\n",
    "    \n",
    "    return line_plot"
   ]
  },
  {
   "cell_type": "code",
   "execution_count": 88,
   "metadata": {},
   "outputs": [],
   "source": [
    "style = {'description_width': 'initial'}\n",
    "layout = widgets.Layout(display='flex',\n",
    "                justify_content='center',\n",
    "                width='80%')\n",
    "\n",
    "dates = pd.date_range('2020-02-15', datetime.date(datetime.now()))\n",
    "options = [(date.strftime(' %d/%m/%Y '), date) for date in dates]\n",
    "index = (0, len(options) - 1)\n",
    "\n",
    "date_range_picker = widgets.SelectionRangeSlider(\n",
    "    options=options,\n",
    "    index=index,\n",
    "    description='Период:',\n",
    "    disabled=False,\n",
    "    continuous_update=False,\n",
    "    orientation='horizontal',\n",
    "    style=style,\n",
    "    layout=layout\n",
    ")\n",
    "\n",
    "line_selector = widgets.SelectMultiple(\n",
    "    options=['Новозаразени', 'Тестирани', 'Процент'],\n",
    "    value=['Новозаразени', 'Тестирани', 'Процент'],\n",
    "    description='Изберете кои линиски дијаграми сакате да бидат покажани:',\n",
    "    disabled=False,\n",
    "    style = style,\n",
    "    layout=layout\n",
    ")"
   ]
  },
  {
   "cell_type": "code",
   "execution_count": 89,
   "metadata": {},
   "outputs": [
    {
     "data": {
      "application/vnd.jupyter.widget-view+json": {
       "model_id": "03482f65a11642d0a539f2ac96b27592",
       "version_major": 2,
       "version_minor": 0
      },
      "text/plain": [
       "interactive(children=(SelectionRangeSlider(continuous_update=False, description='Период:', index=(0, 85), layo…"
      ]
     },
     "metadata": {},
     "output_type": "display_data"
    }
   ],
   "source": [
    "p = interact(draw_line_plot, date_range=date_range_picker, line_visibility=line_selector, data=fixed(res_melt))"
   ]
  },
  {
   "cell_type": "code",
   "execution_count": null,
   "metadata": {},
   "outputs": [],
   "source": []
  }
 ],
 "metadata": {
  "kernelspec": {
   "display_name": "Python 3",
   "language": "python",
   "name": "python3"
  },
  "language_info": {
   "codemirror_mode": {
    "name": "ipython",
    "version": 3
   },
   "file_extension": ".py",
   "mimetype": "text/x-python",
   "name": "python",
   "nbconvert_exporter": "python",
   "pygments_lexer": "ipython3",
   "version": "3.8.1"
  }
 },
 "nbformat": 4,
 "nbformat_minor": 4
}
