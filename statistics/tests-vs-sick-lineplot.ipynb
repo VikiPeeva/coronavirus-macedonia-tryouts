{
 "cells": [
  {
   "cell_type": "code",
   "execution_count": 13,
   "metadata": {},
   "outputs": [],
   "source": [
    "import pandas as pd\n",
    "# import nbinteract as nbi\n",
    "import numpy as np\n",
    "import matplotlib.pyplot as plt\n",
    "import matplotlib.ticker as ticker\n",
    "import seaborn as sns\n",
    "import ipywidgets as widgets\n",
    "from ipywidgets import interact, interactive, fixed, interact_manual\n",
    "from IPython.display import display\n",
    "import mpld3\n",
    "from datetime import datetime, timedelta\n",
    "\n",
    "%matplotlib inline\n",
    "mpld3.enable_notebook()"
   ]
  },
  {
   "cell_type": "code",
   "execution_count": 2,
   "metadata": {},
   "outputs": [],
   "source": [
    "sick = pd.read_csv(\"https://raw.githubusercontent.com/klupp/opendata/master/mk/covid19/datasets/infected_by_municipality.csv\")\n",
    "sick = sick.groupby('date')['count'].sum()"
   ]
  },
  {
   "cell_type": "code",
   "execution_count": 3,
   "metadata": {},
   "outputs": [],
   "source": [
    "tests = pd.read_csv(\"https://raw.githubusercontent.com/klupp/opendata/master/mk/covid19/datasets/tests_total.csv\")\n",
    "tests = tests.groupby('date')['count'].sum()"
   ]
  },
  {
   "cell_type": "code",
   "execution_count": 4,
   "metadata": {},
   "outputs": [],
   "source": [
    "percentage = sick.combine(tests, lambda scount, tcount: scount * 100.0 / tcount)\n",
    "percentage.fillna(0, inplace=True)"
   ]
  },
  {
   "cell_type": "code",
   "execution_count": 34,
   "metadata": {},
   "outputs": [],
   "source": [
    "# join the three datasets\n",
    "res = pd.concat([sick, tests, percentage], axis=1, keys=['Новозаразени', 'Тестирани', 'Процент'])\n",
    "\n",
    "# add missing dates\n",
    "yesterday = datetime.today() - timedelta(days=1)\n",
    "idx = pd.date_range('2020-02-15', datetime.date(yesterday))\n",
    "res.index = pd.DatetimeIndex(res.index)\n",
    "res = res.reindex(idx)\n",
    "\n",
    "res['date'] = res.index # get the index as date column\n",
    "res.reset_index(drop=True, inplace=True) # drop the index\n",
    "res.sort_values(by='date', inplace=True) # sort by the date column\n",
    "res.fillna(0, inplace=True) # fill nans with 0"
   ]
  },
  {
   "cell_type": "code",
   "execution_count": 35,
   "metadata": {},
   "outputs": [],
   "source": [
    "res_melt = pd.melt(res, id_vars=['date'], value_vars=['Новозаразени', 'Тестирани', 'Процент'])"
   ]
  },
  {
   "cell_type": "code",
   "execution_count": 78,
   "metadata": {},
   "outputs": [],
   "source": [
    "def draw_line_plot(date_range, line_visibility, data):\n",
    "    from_day = date_range[0]\n",
    "    to_day = date_range[1]\n",
    "    interesting_data = data.loc[(data['date'] >= from_day)\n",
    "                                & (data['date'] <= to_day)\n",
    "                                & data['variable'].isin(line_visibility)]\n",
    "\n",
    "    figure = plt.figure(num='figure', figsize=(15,10))\n",
    "    ax = plt.axes()\n",
    "    colors = list(sns.color_palette())\n",
    "    line_plot = sns.lineplot(x=\"date\", y=\"value\", hue='variable', data=interesting_data, style=\"variable\",\n",
    "                             markers=True, dashes=False, ax = ax,\n",
    "                             palette=dict(Новозаразени=colors[0], Тестирани=colors[1], Процент=colors[2]))\n",
    "    line_plot.set(xlabel='Датум', ylabel='')\n",
    "    ax.legend(loc='upper left').texts[0].set_text(\"Легенда:\")\n",
    "    line_plot.xaxis.set_major_locator(ticker.MaxNLocator(integer=True))\n",
    "    line_plot.yaxis.set_major_locator(ticker.MaxNLocator(integer=True))\n",
    "    \n",
    "    for line in line_plot.get_lines():\n",
    "        labels = [x if isinstance(x, int) else round(x, 2) for x in line.get_ydata().tolist()]\n",
    "        mpld3.plugins.connect(figure, mpld3.plugins.PointLabelTooltip(line, labels=labels))\n",
    "    \n",
    "    return line_plot"
   ]
  },
  {
   "cell_type": "code",
   "execution_count": 79,
   "metadata": {},
   "outputs": [],
   "source": [
    "style = {'description_width': 'initial'}\n",
    "layout = widgets.Layout(display='flex',\n",
    "                justify_content='center',\n",
    "                width='80%')\n",
    "\n",
    "dates = pd.date_range('2020-02-15', datetime.date(datetime.now()))\n",
    "options = [(date.strftime(' %d/%m/%Y '), date) for date in dates]\n",
    "index = (0, len(options) - 1)\n",
    "\n",
    "date_range_picker = widgets.SelectionRangeSlider(\n",
    "    options=options,\n",
    "    index=index,\n",
    "    description='Период:',\n",
    "    disabled=False,\n",
    "    continuous_update=False,\n",
    "    orientation='horizontal',\n",
    "    style=style,\n",
    "    layout=layout\n",
    ")\n",
    "\n",
    "line_selector = widgets.SelectMultiple(\n",
    "    options=['Новозаразени', 'Тестирани', 'Процент'],\n",
    "    value=['Новозаразени', 'Тестирани', 'Процент'],\n",
    "    description='Изберете кои линиски дијаграми сакате да бидат покажани:',\n",
    "    disabled=False,\n",
    "    style = style,\n",
    "    layout=layout\n",
    ")"
   ]
  },
  {
   "cell_type": "code",
   "execution_count": 80,
   "metadata": {},
   "outputs": [
    {
     "data": {
      "application/vnd.jupyter.widget-view+json": {
       "model_id": "172d8beee3e34670aff64d88b169f020",
       "version_major": 2,
       "version_minor": 0
      },
      "text/plain": [
       "interactive(children=(SelectionRangeSlider(continuous_update=False, description='Период:', index=(0, 85), layo…"
      ]
     },
     "metadata": {},
     "output_type": "display_data"
    }
   ],
   "source": [
    "p = interact(draw_line_plot, date_range=date_range_picker, line_visibility=line_selector, data=fixed(res_melt))"
   ]
  },
  {
   "cell_type": "code",
   "execution_count": 19,
   "metadata": {},
   "outputs": [
    {
     "data": {
      "image/png": "[encoded data removed]",
      "text/html": [
       "\n",
       "\n",
       "<style>\n",
       "\n",
       "</style>\n",
       "\n",
       "<div id=\"fig_el1097731401747223623842027424117\"></div>\n",
       "<script>\n",
       "function mpld3_load_lib(url, callback){\n",
       "  var s = document.createElement('script');\n",
       "  s.src = url;\n",
       "  s.async = true;\n",
       "  s.onreadystatechange = s.onload = callback;\n",
       "  s.onerror = function(){console.warn(\"failed to load library \" + url);};\n",
       "  document.getElementsByTagName(\"head\")[0].appendChild(s);\n",
       "}\n",
       "\n",
       "if(typeof(mpld3) !== \"undefined\" && mpld3._mpld3IsLoaded){\n",
       "   // already loaded: just create the figure\n",
       "   !function(mpld3){\n",
       "       \n",
       "       mpld3.draw_figure(\"fig_el1097731401747223623842027424117\", {\"width\": 432.0, \"height\": 288.0, \"axes\": [{\"bbox\": [0.125, 0.125, 0.775, 0.755], \"xlim\": [-0.5, 9.5], \"ylim\": [0.5, 9.5], \"xdomain\": [-0.5, 9.5], \"ydomain\": [0.5, 9.5], \"xscale\": \"linear\", \"yscale\": \"linear\", \"axes\": [{\"position\": \"bottom\", \"nticks\": 7, \"tickvalues\": null, \"tickformat\": null, \"scale\": \"linear\", \"fontsize\": 10.0, \"grid\": {\"gridOn\": false}, \"visible\": true}, {\"position\": \"left\", \"nticks\": 11, \"tickvalues\": null, \"tickformat\": null, \"scale\": \"linear\", \"fontsize\": 10.0, \"grid\": {\"gridOn\": false}, \"visible\": true}], \"axesbg\": \"#FFFFFF\", \"axesbgalpha\": null, \"zoomable\": true, \"id\": \"el109773140174722452304\", \"lines\": [{\"data\": \"data01\", \"xindex\": 0, \"yindex\": 1, \"coordinates\": \"data\", \"id\": \"el109773140174722114272\", \"color\": \"#000000\", \"linewidth\": 3.0, \"dasharray\": \"none\", \"alpha\": 1, \"zorder\": 2, \"drawstyle\": \"default\"}], \"paths\": [], \"markers\": [{\"data\": \"data01\", \"xindex\": 0, \"yindex\": 1, \"coordinates\": \"data\", \"id\": \"el109773140174722114272pts\", \"facecolor\": \"#000000\", \"edgecolor\": \"#FFFFFF\", \"edgewidth\": 2, \"alpha\": 1, \"zorder\": 2, \"markerpath\": [[[-10.0, 10.0], [10.0, 10.0], [10.0, -10.0], [-10.0, -10.0]], [\"M\", \"L\", \"L\", \"L\", \"Z\"]]}], \"texts\": [], \"collections\": [], \"images\": [], \"sharex\": [], \"sharey\": []}], \"data\": {\"data01\": [[0.0, 3.0], [1.0, 1.0], [2.0, 4.0], [3.0, 1.0], [4.0, 5.0], [5.0, 9.0], [6.0, 2.0], [7.0, 6.0], [8.0, 5.0], [9.0, 3.0]]}, \"id\": \"el109773140174722362384\", \"plugins\": [{\"type\": \"reset\"}, {\"type\": \"zoom\", \"button\": true, \"enabled\": false}, {\"type\": \"boxzoom\", \"button\": true, \"enabled\": false}, {\"type\": \"tooltip\", \"id\": \"el109773140174722114272pts\", \"labels\": [3, 1, 4, 1, 5, 9, 2, 6, 5, 3], \"hoffset\": 0, \"voffset\": 10, \"location\": \"mouse\"}]});\n",
       "   }(mpld3);\n",
       "}else if(typeof define === \"function\" && define.amd){\n",
       "   // require.js is available: use it to load d3/mpld3\n",
       "   require.config({paths: {d3: \"https://mpld3.github.io/js/d3.v3.min\"}});\n",
       "   require([\"d3\"], function(d3){\n",
       "      window.d3 = d3;\n",
       "      mpld3_load_lib(\"https://mpld3.github.io/js/mpld3.v0.3.js\", function(){\n",
       "         \n",
       "         mpld3.draw_figure(\"fig_el1097731401747223623842027424117\", {\"width\": 432.0, \"height\": 288.0, \"axes\": [{\"bbox\": [0.125, 0.125, 0.775, 0.755], \"xlim\": [-0.5, 9.5], \"ylim\": [0.5, 9.5], \"xdomain\": [-0.5, 9.5], \"ydomain\": [0.5, 9.5], \"xscale\": \"linear\", \"yscale\": \"linear\", \"axes\": [{\"position\": \"bottom\", \"nticks\": 7, \"tickvalues\": null, \"tickformat\": null, \"scale\": \"linear\", \"fontsize\": 10.0, \"grid\": {\"gridOn\": false}, \"visible\": true}, {\"position\": \"left\", \"nticks\": 11, \"tickvalues\": null, \"tickformat\": null, \"scale\": \"linear\", \"fontsize\": 10.0, \"grid\": {\"gridOn\": false}, \"visible\": true}], \"axesbg\": \"#FFFFFF\", \"axesbgalpha\": null, \"zoomable\": true, \"id\": \"el109773140174722452304\", \"lines\": [{\"data\": \"data01\", \"xindex\": 0, \"yindex\": 1, \"coordinates\": \"data\", \"id\": \"el109773140174722114272\", \"color\": \"#000000\", \"linewidth\": 3.0, \"dasharray\": \"none\", \"alpha\": 1, \"zorder\": 2, \"drawstyle\": \"default\"}], \"paths\": [], \"markers\": [{\"data\": \"data01\", \"xindex\": 0, \"yindex\": 1, \"coordinates\": \"data\", \"id\": \"el109773140174722114272pts\", \"facecolor\": \"#000000\", \"edgecolor\": \"#FFFFFF\", \"edgewidth\": 2, \"alpha\": 1, \"zorder\": 2, \"markerpath\": [[[-10.0, 10.0], [10.0, 10.0], [10.0, -10.0], [-10.0, -10.0]], [\"M\", \"L\", \"L\", \"L\", \"Z\"]]}], \"texts\": [], \"collections\": [], \"images\": [], \"sharex\": [], \"sharey\": []}], \"data\": {\"data01\": [[0.0, 3.0], [1.0, 1.0], [2.0, 4.0], [3.0, 1.0], [4.0, 5.0], [5.0, 9.0], [6.0, 2.0], [7.0, 6.0], [8.0, 5.0], [9.0, 3.0]]}, \"id\": \"el109773140174722362384\", \"plugins\": [{\"type\": \"reset\"}, {\"type\": \"zoom\", \"button\": true, \"enabled\": false}, {\"type\": \"boxzoom\", \"button\": true, \"enabled\": false}, {\"type\": \"tooltip\", \"id\": \"el109773140174722114272pts\", \"labels\": [3, 1, 4, 1, 5, 9, 2, 6, 5, 3], \"hoffset\": 0, \"voffset\": 10, \"location\": \"mouse\"}]});\n",
       "      });\n",
       "    });\n",
       "}else{\n",
       "    // require.js not available: dynamically load d3 & mpld3\n",
       "    mpld3_load_lib(\"https://mpld3.github.io/js/d3.v3.min.js\", function(){\n",
       "         mpld3_load_lib(\"https://mpld3.github.io/js/mpld3.v0.3.js\", function(){\n",
       "                 \n",
       "                 mpld3.draw_figure(\"fig_el1097731401747223623842027424117\", {\"width\": 432.0, \"height\": 288.0, \"axes\": [{\"bbox\": [0.125, 0.125, 0.775, 0.755], \"xlim\": [-0.5, 9.5], \"ylim\": [0.5, 9.5], \"xdomain\": [-0.5, 9.5], \"ydomain\": [0.5, 9.5], \"xscale\": \"linear\", \"yscale\": \"linear\", \"axes\": [{\"position\": \"bottom\", \"nticks\": 7, \"tickvalues\": null, \"tickformat\": null, \"scale\": \"linear\", \"fontsize\": 10.0, \"grid\": {\"gridOn\": false}, \"visible\": true}, {\"position\": \"left\", \"nticks\": 11, \"tickvalues\": null, \"tickformat\": null, \"scale\": \"linear\", \"fontsize\": 10.0, \"grid\": {\"gridOn\": false}, \"visible\": true}], \"axesbg\": \"#FFFFFF\", \"axesbgalpha\": null, \"zoomable\": true, \"id\": \"el109773140174722452304\", \"lines\": [{\"data\": \"data01\", \"xindex\": 0, \"yindex\": 1, \"coordinates\": \"data\", \"id\": \"el109773140174722114272\", \"color\": \"#000000\", \"linewidth\": 3.0, \"dasharray\": \"none\", \"alpha\": 1, \"zorder\": 2, \"drawstyle\": \"default\"}], \"paths\": [], \"markers\": [{\"data\": \"data01\", \"xindex\": 0, \"yindex\": 1, \"coordinates\": \"data\", \"id\": \"el109773140174722114272pts\", \"facecolor\": \"#000000\", \"edgecolor\": \"#FFFFFF\", \"edgewidth\": 2, \"alpha\": 1, \"zorder\": 2, \"markerpath\": [[[-10.0, 10.0], [10.0, 10.0], [10.0, -10.0], [-10.0, -10.0]], [\"M\", \"L\", \"L\", \"L\", \"Z\"]]}], \"texts\": [], \"collections\": [], \"images\": [], \"sharex\": [], \"sharey\": []}], \"data\": {\"data01\": [[0.0, 3.0], [1.0, 1.0], [2.0, 4.0], [3.0, 1.0], [4.0, 5.0], [5.0, 9.0], [6.0, 2.0], [7.0, 6.0], [8.0, 5.0], [9.0, 3.0]]}, \"id\": \"el109773140174722362384\", \"plugins\": [{\"type\": \"reset\"}, {\"type\": \"zoom\", \"button\": true, \"enabled\": false}, {\"type\": \"boxzoom\", \"button\": true, \"enabled\": false}, {\"type\": \"tooltip\", \"id\": \"el109773140174722114272pts\", \"labels\": [3, 1, 4, 1, 5, 9, 2, 6, 5, 3], \"hoffset\": 0, \"voffset\": 10, \"location\": \"mouse\"}]});\n",
       "            })\n",
       "         });\n",
       "}\n",
       "</script>"
      ],
      "text/plain": [
       "<Figure size 432x288 with 1 Axes>"
      ]
     },
     "metadata": {
      "needs_background": "light"
     },
     "output_type": "display_data"
    }
   ],
   "source": [
    "\n",
    "\n",
    "%matplotlib inline\n",
    "import matplotlib.pyplot as plt, mpld3\n",
    "mpld3.enable_notebook()\n",
    "\n",
    "\n",
    "\n",
    "y = [3,1,4,1,5,9,2,6,5,3]\n",
    "lines = plt.plot(y, 'ks-', mec='w', ms=20, mew=2, lw=3)\n",
    "plt.axis(xmin=-.5, xmax=9.5, ymin=.5, ymax=9.5)\n",
    "\n",
    "tooltips = mpld3.plugins.PointLabelTooltip(lines[0], labels=y)\n",
    "mpld3.plugins.connect(plt.gcf(), tooltips)\n",
    "\n"
   ]
  },
  {
   "cell_type": "code",
   "execution_count": null,
   "metadata": {},
   "outputs": [],
   "source": [
    "type(plt.gcf())"
   ]
  },
  {
   "cell_type": "code",
   "execution_count": null,
   "metadata": {},
   "outputs": [],
   "source": []
  }
 ],
 "metadata": {
  "kernelspec": {
   "display_name": "Python 3",
   "language": "python",
   "name": "python3"
  },
  "language_info": {
   "codemirror_mode": {
    "name": "ipython",
    "version": 3
   },
   "file_extension": ".py",
   "mimetype": "text/x-python",
   "name": "python",
   "nbconvert_exporter": "python",
   "pygments_lexer": "ipython3",
   "version": "3.8.1"
  }
 },
 "nbformat": 4,
 "nbformat_minor": 4
}
