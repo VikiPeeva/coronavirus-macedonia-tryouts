{
 "cells": [
  {
   "cell_type": "markdown",
   "metadata": {},
   "source": [
    "# Статистики за корона вирусот во Македонија"
   ]
  },
  {
   "cell_type": "code",
   "execution_count": null,
   "metadata": {},
   "outputs": [],
   "source": [
    "import pandas as pd\n",
    "import nbinteract as nbi\n",
    "import numpy as np\n",
    "import matplotlib.pyplot as plt\n",
    "import matplotlib.ticker as ticker\n",
    "import seaborn as sns\n",
    "import ipywidgets as widgets\n",
    "from ipywidgets import interact\n",
    "\n",
    "import statistics_methods\n",
    "\n",
    "%matplotlib inline"
   ]
  },
  {
   "cell_type": "code",
   "execution_count": null,
   "metadata": {},
   "outputs": [],
   "source": [
    "all_data = pd.read_csv(\"https://raw.githubusercontent.com/CSSEGISandData/COVID-19/master/csse_covid_19_data/csse_covid_19_time_series/time_series_19-covid-Confirmed.csv\")\n",
    "\n",
    "all_data.head()"
   ]
  },
  {
   "cell_type": "code",
   "execution_count": null,
   "metadata": {},
   "outputs": [],
   "source": [
    "def get_data_for_country(data, name):\n",
    "    res = statistics_methods.get_data_by_country_name(data=data, country_column='Country/Region', country_name=name)\n",
    "    res = statistics_methods.convert_data_in_day_count_larger_than_zero_format(data=res, id_vars=res.columns[1 : 4], value_vars=res.columns[4:], var_name='date', value_name='count')\n",
    "    return res"
   ]
  },
  {
   "cell_type": "code",
   "execution_count": null,
   "metadata": {},
   "outputs": [],
   "source": [
    "def get_data_for_countries(data, countries):\n",
    "    data = [get_data_for_country(data, country) for country in countries]\n",
    "    lengths = [len(country_data) for country_data in data]\n",
    "    comparable_days_count = max(lengths)\n",
    "#     interesting_data = pd.concat([country_data.iloc[:comparable_days_count] for country_data in data])\n",
    "    return data, comparable_days_count\n",
    "\n",
    "def draw_line_plot(data, day_range, figure):\n",
    "    figure = plt.figure(figsize=(15,10))\n",
    "    from_day = day_range[0]\n",
    "    to_day = day_range[1]\n",
    "    print(from_day)\n",
    "    interesting_data = pd.concat([country_data.loc[(country_data['artificial_day'] >= from_day) & \n",
    "                                                   (country_data['artificial_day'] <= to_day)] \n",
    "                                  for country_data in data])\n",
    "    line_plot = sns.lineplot(x=\"artificial_day\", y=\"count\", hue='Country/Region', data=interesting_data, ax=plt.axes())\n",
    "\n",
    "    line_plot.xaxis.set_major_locator(ticker.MaxNLocator(integer=True))\n",
    "    line_plot.yaxis.set_major_locator(ticker.MaxNLocator(integer=True))\n"
   ]
  },
  {
   "cell_type": "code",
   "execution_count": null,
   "metadata": {},
   "outputs": [],
   "source": [
    "interesting_data, max_days = get_data_for_countries(all_data, countries=['North Macedonia', 'Spain', 'Croatia', 'Romania'])\n",
    "\n",
    "\n",
    "\n",
    "day_range_chooser = widgets.IntRangeSlider(\n",
    "    value=[1, 10],\n",
    "    min=1,\n",
    "    max=max_days,\n",
    "    step=1,\n",
    "    description='Избери за кои денови:',\n",
    "    disabled=False,\n",
    "    continuous_update=False,\n",
    "    orientation='horizontal',\n",
    "    readout=True,\n",
    "    readout_format='d',\n",
    ")\n",
    "\n",
    "display(day_range_chooser)\n",
    "\n",
    "def on_values_change(change):\n",
    "    draw_line_plot(interesting_data, change['new'], figure)\n",
    "\n",
    "\n",
    "draw_line_plot(interesting_data, (1, 10), figure)\n",
    "day_range_chooser.observe(on_values_change, names='value')\n",
    "\n",
    "\n",
    "\n",
    "# interact(draw_line_plot, day_range_chooser)\n",
    "# line_plot.set_xticklabels(line_plot.get_xticklabels(), rotation=45)\n",
    "# line_plot.xaxis.set_major_locator(ticker.MultipleLocator(2))"
   ]
  }
 ],
 "metadata": {
  "kernelspec": {
   "display_name": "Python 3",
   "language": "python",
   "name": "python3"
  },
  "language_info": {
   "codemirror_mode": {
    "name": "ipython",
    "version": 3
   },
   "file_extension": ".py",
   "mimetype": "text/x-python",
   "name": "python",
   "nbconvert_exporter": "python",
   "pygments_lexer": "ipython3",
   "version": "3.8.1"
  }
 },
 "nbformat": 4,
 "nbformat_minor": 2
}
