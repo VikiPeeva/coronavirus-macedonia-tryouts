{
 "cells": [
  {
   "cell_type": "markdown",
   "metadata": {},
   "source": [
    "# Статистики за корона вирусот во Македонија"
   ]
  },
  {
   "cell_type": "code",
   "execution_count": 110,
   "metadata": {},
   "outputs": [],
   "source": [
    "import pandas as pd\n",
    "import nbinteract as nbi\n",
    "import numpy as np\n",
    "import matplotlib.pyplot as plt\n",
    "import matplotlib.ticker as ticker\n",
    "import seaborn as sns\n",
    "import ipywidgets as widgets\n",
    "from ipywidgets import interact\n",
    "\n",
    "import statistics_methods\n",
    "\n",
    "%matplotlib inline"
   ]
  },
  {
   "cell_type": "code",
   "execution_count": null,
   "metadata": {},
   "outputs": [],
   "source": [
    "all_data = pd.read_csv(\"https://raw.githubusercontent.com/CSSEGISandData/COVID-19/master/csse_covid_19_data/csse_covid_19_time_series/time_series_19-covid-Confirmed.csv\")\n",
    "\n",
    "all_data.head()"
   ]
  },
  {
   "cell_type": "code",
   "execution_count": 23,
   "metadata": {},
   "outputs": [],
   "source": [
    "def get_data_for_country(data, name):\n",
    "    res = statistics_methods.get_data_by_country_name(data=data, country_column='Country/Region', country_name=name)\n",
    "    res = statistics_methods.convert_data_in_day_count_larger_than_zero_format(data=res, id_vars=res.columns[1 : 4], value_vars=res.columns[4:], var_name='date', value_name='count')\n",
    "    return res"
   ]
  },
  {
   "cell_type": "code",
   "execution_count": 122,
   "metadata": {},
   "outputs": [],
   "source": [
    "def get_data_for_countries(data, countries):\n",
    "    data = [get_data_for_country(data, country) for country in countries]\n",
    "    lengths = [len(country_data) for country_data in data]\n",
    "    comparable_days_count = max(lengths)\n",
    "#     interesting_data = pd.concat([country_data.iloc[:comparable_days_count] for country_data in data])\n",
    "    return data, comparable_days_count\n",
    "\n",
    "def draw_line_plot(data, day_range, figure):\n",
    "    plt.axes.Axes.clear()\n",
    "    from_day = day_range[0]\n",
    "    to_day = day_range[1]\n",
    "    print(from_day)\n",
    "    interesting_data = pd.concat([country_data.loc[(country_data['artificial_day'] >= from_day) & \n",
    "                                                   (country_data['artificial_day'] <= to_day)] \n",
    "                                  for country_data in data])\n",
    "    line_plot = sns.lineplot(x=\"artificial_day\", y=\"count\", hue='Country/Region', data=interesting_data, ax=plt.axes())\n",
    "\n",
    "    line_plot.xaxis.set_major_locator(ticker.MaxNLocator(integer=True))\n",
    "    line_plot.yaxis.set_major_locator(ticker.MaxNLocator(integer=True))\n"
   ]
  },
  {
   "cell_type": "code",
   "execution_count": 123,
   "metadata": {},
   "outputs": [
    {
     "data": {
      "application/vnd.jupyter.widget-view+json": {
       "model_id": "2e89735321494d58810e29a994d6067d",
       "version_major": 2,
       "version_minor": 0
      },
      "text/plain": [
       "IntRangeSlider(value=(1, 10), continuous_update=False, description='Избери за кои денови:', max=45, min=1)"
      ]
     },
     "metadata": {},
     "output_type": "display_data"
    },
    {
     "ename": "AttributeError",
     "evalue": "'function' object has no attribute 'Axes'",
     "output_type": "error",
     "traceback": [
      "\u001b[0;31m---------------------------------------------------------------------------\u001b[0m",
      "\u001b[0;31mAttributeError\u001b[0m                            Traceback (most recent call last)",
      "\u001b[0;32m<ipython-input-123-8afdfc4c3dca>\u001b[0m in \u001b[0;36m<module>\u001b[0;34m\u001b[0m\n\u001b[1;32m     22\u001b[0m \u001b[0;34m\u001b[0m\u001b[0m\n\u001b[1;32m     23\u001b[0m \u001b[0;34m\u001b[0m\u001b[0m\n\u001b[0;32m---> 24\u001b[0;31m \u001b[0mdraw_line_plot\u001b[0m\u001b[0;34m(\u001b[0m\u001b[0minteresting_data\u001b[0m\u001b[0;34m,\u001b[0m \u001b[0;34m(\u001b[0m\u001b[0;36m1\u001b[0m\u001b[0;34m,\u001b[0m \u001b[0;36m10\u001b[0m\u001b[0;34m)\u001b[0m\u001b[0;34m,\u001b[0m \u001b[0mfigure\u001b[0m\u001b[0;34m)\u001b[0m\u001b[0;34m\u001b[0m\u001b[0;34m\u001b[0m\u001b[0m\n\u001b[0m\u001b[1;32m     25\u001b[0m \u001b[0mday_range_chooser\u001b[0m\u001b[0;34m.\u001b[0m\u001b[0mobserve\u001b[0m\u001b[0;34m(\u001b[0m\u001b[0mon_values_change\u001b[0m\u001b[0;34m,\u001b[0m \u001b[0mnames\u001b[0m\u001b[0;34m=\u001b[0m\u001b[0;34m'value'\u001b[0m\u001b[0;34m)\u001b[0m\u001b[0;34m\u001b[0m\u001b[0;34m\u001b[0m\u001b[0m\n\u001b[1;32m     26\u001b[0m \u001b[0;34m\u001b[0m\u001b[0m\n",
      "\u001b[0;32m<ipython-input-122-c7bdd92e9bed>\u001b[0m in \u001b[0;36mdraw_line_plot\u001b[0;34m(data, day_range, figure)\u001b[0m\n\u001b[1;32m      7\u001b[0m \u001b[0;34m\u001b[0m\u001b[0m\n\u001b[1;32m      8\u001b[0m \u001b[0;32mdef\u001b[0m \u001b[0mdraw_line_plot\u001b[0m\u001b[0;34m(\u001b[0m\u001b[0mdata\u001b[0m\u001b[0;34m,\u001b[0m \u001b[0mday_range\u001b[0m\u001b[0;34m,\u001b[0m \u001b[0mfigure\u001b[0m\u001b[0;34m)\u001b[0m\u001b[0;34m:\u001b[0m\u001b[0;34m\u001b[0m\u001b[0;34m\u001b[0m\u001b[0m\n\u001b[0;32m----> 9\u001b[0;31m     \u001b[0mplt\u001b[0m\u001b[0;34m.\u001b[0m\u001b[0maxes\u001b[0m\u001b[0;34m.\u001b[0m\u001b[0mAxes\u001b[0m\u001b[0;34m.\u001b[0m\u001b[0mclear\u001b[0m\u001b[0;34m(\u001b[0m\u001b[0;34m)\u001b[0m\u001b[0;34m\u001b[0m\u001b[0;34m\u001b[0m\u001b[0m\n\u001b[0m\u001b[1;32m     10\u001b[0m     \u001b[0mfrom_day\u001b[0m \u001b[0;34m=\u001b[0m \u001b[0mday_range\u001b[0m\u001b[0;34m[\u001b[0m\u001b[0;36m0\u001b[0m\u001b[0;34m]\u001b[0m\u001b[0;34m\u001b[0m\u001b[0;34m\u001b[0m\u001b[0m\n\u001b[1;32m     11\u001b[0m     \u001b[0mto_day\u001b[0m \u001b[0;34m=\u001b[0m \u001b[0mday_range\u001b[0m\u001b[0;34m[\u001b[0m\u001b[0;36m1\u001b[0m\u001b[0;34m]\u001b[0m\u001b[0;34m\u001b[0m\u001b[0;34m\u001b[0m\u001b[0m\n",
      "\u001b[0;31mAttributeError\u001b[0m: 'function' object has no attribute 'Axes'"
     ]
    },
    {
     "data": {
      "text/plain": [
       "<Figure size 1080x720 with 0 Axes>"
      ]
     },
     "metadata": {},
     "output_type": "display_data"
    }
   ],
   "source": [
    "interesting_data, max_days = get_data_for_countries(all_data, countries=['North Macedonia', 'Spain', 'Croatia', 'Romania'])\n",
    "\n",
    "figure = plt.figure(figsize=(15,10))\n",
    "\n",
    "day_range_chooser = widgets.IntRangeSlider(\n",
    "    value=[1, 10],\n",
    "    min=1,\n",
    "    max=max_days,\n",
    "    step=1,\n",
    "    description='Избери за кои денови:',\n",
    "    disabled=False,\n",
    "    continuous_update=False,\n",
    "    orientation='horizontal',\n",
    "    readout=True,\n",
    "    readout_format='d',\n",
    ")\n",
    "\n",
    "display(day_range_chooser)\n",
    "\n",
    "def on_values_change(change):\n",
    "    draw_line_plot(interesting_data, change['new'], figure)\n",
    "\n",
    "\n",
    "draw_line_plot(interesting_data, (1, 10), figure)\n",
    "day_range_chooser.observe(on_values_change, names='value')\n",
    "\n",
    "\n",
    "\n",
    "# interact(draw_line_plot, day_range_chooser)\n",
    "# line_plot.set_xticklabels(line_plot.get_xticklabels(), rotation=45)\n",
    "# line_plot.xaxis.set_major_locator(ticker.MultipleLocator(2))"
   ]
  },
  {
   "cell_type": "code",
   "execution_count": 49,
   "metadata": {},
   "outputs": [
    {
     "data": {
      "image/png": "[encoded data removed]",
      "text/plain": [
       "<Figure size 1080x720 with 1 Axes>"
      ]
     },
     "metadata": {
      "needs_background": "light"
     },
     "output_type": "display_data"
    }
   ],
   "source": [
    "interesting_data = get_data_for_countries(all_data, countries=['North Macedonia', 'Albania', 'Latvia', 'Slovenia'])\n",
    "plt.figure(figsize=(15,10))\n",
    "line_plot = sns.lineplot(x=\"artificial_day\", y=\"count\", hue='Country/Region', data=interesting_data)\n",
    "\n",
    "line_plot.xaxis.set_major_locator(ticker.MaxNLocator(integer=True))\n",
    "line_plot.yaxis.set_major_locator(ticker.MaxNLocator(integer=True))\n",
    "\n",
    "# line_plot.set_xticklabels(line_plot.get_xticklabels(), rotation=45)\n",
    "# line_plot.xaxis.set_major_locator(ticker.MultipleLocator(2))"
   ]
  },
  {
   "cell_type": "code",
   "execution_count": 66,
   "metadata": {},
   "outputs": [
    {
     "name": "stdout",
     "output_type": "stream",
     "text": [
      "                 artificial_day  Lat  Long  date  count\n",
      "Country/Region                                         \n",
      "Croatia                      20   20    20    20     20\n",
      "North Macedonia              20   20    20    20     20\n",
      "Romania                      20   20    20    20     20\n",
      "Spain                        20   20    20    20     20\n"
     ]
    },
    {
     "data": {
      "text/html": [
       "<div>\n",
       "<style scoped>\n",
       "    .dataframe tbody tr th:only-of-type {\n",
       "        vertical-align: middle;\n",
       "    }\n",
       "\n",
       "    .dataframe tbody tr th {\n",
       "        vertical-align: top;\n",
       "    }\n",
       "\n",
       "    .dataframe thead th {\n",
       "        text-align: right;\n",
       "    }\n",
       "</style>\n",
       "<table border=\"1\" class=\"dataframe\">\n",
       "  <thead>\n",
       "    <tr style=\"text-align: right;\">\n",
       "      <th></th>\n",
       "      <th>artificial_day</th>\n",
       "      <th>Country/Region</th>\n",
       "      <th>Lat</th>\n",
       "      <th>Long</th>\n",
       "      <th>date</th>\n",
       "      <th>count</th>\n",
       "    </tr>\n",
       "  </thead>\n",
       "  <tbody>\n",
       "    <tr>\n",
       "      <th>0</th>\n",
       "      <td>1</td>\n",
       "      <td>North Macedonia</td>\n",
       "      <td>41.6086</td>\n",
       "      <td>21.7453</td>\n",
       "      <td>2/26/20</td>\n",
       "      <td>1</td>\n",
       "    </tr>\n",
       "    <tr>\n",
       "      <th>1</th>\n",
       "      <td>2</td>\n",
       "      <td>North Macedonia</td>\n",
       "      <td>41.6086</td>\n",
       "      <td>21.7453</td>\n",
       "      <td>2/27/20</td>\n",
       "      <td>1</td>\n",
       "    </tr>\n",
       "    <tr>\n",
       "      <th>2</th>\n",
       "      <td>3</td>\n",
       "      <td>North Macedonia</td>\n",
       "      <td>41.6086</td>\n",
       "      <td>21.7453</td>\n",
       "      <td>2/28/20</td>\n",
       "      <td>1</td>\n",
       "    </tr>\n",
       "    <tr>\n",
       "      <th>3</th>\n",
       "      <td>4</td>\n",
       "      <td>North Macedonia</td>\n",
       "      <td>41.6086</td>\n",
       "      <td>21.7453</td>\n",
       "      <td>2/29/20</td>\n",
       "      <td>1</td>\n",
       "    </tr>\n",
       "    <tr>\n",
       "      <th>4</th>\n",
       "      <td>5</td>\n",
       "      <td>North Macedonia</td>\n",
       "      <td>41.6086</td>\n",
       "      <td>21.7453</td>\n",
       "      <td>3/1/20</td>\n",
       "      <td>1</td>\n",
       "    </tr>\n",
       "    <tr>\n",
       "      <th>...</th>\n",
       "      <td>...</td>\n",
       "      <td>...</td>\n",
       "      <td>...</td>\n",
       "      <td>...</td>\n",
       "      <td>...</td>\n",
       "      <td>...</td>\n",
       "    </tr>\n",
       "    <tr>\n",
       "      <th>15</th>\n",
       "      <td>16</td>\n",
       "      <td>Romania</td>\n",
       "      <td>45.9432</td>\n",
       "      <td>24.9668</td>\n",
       "      <td>3/12/20</td>\n",
       "      <td>49</td>\n",
       "    </tr>\n",
       "    <tr>\n",
       "      <th>16</th>\n",
       "      <td>17</td>\n",
       "      <td>Romania</td>\n",
       "      <td>45.9432</td>\n",
       "      <td>24.9668</td>\n",
       "      <td>3/13/20</td>\n",
       "      <td>89</td>\n",
       "    </tr>\n",
       "    <tr>\n",
       "      <th>17</th>\n",
       "      <td>18</td>\n",
       "      <td>Romania</td>\n",
       "      <td>45.9432</td>\n",
       "      <td>24.9668</td>\n",
       "      <td>3/14/20</td>\n",
       "      <td>123</td>\n",
       "    </tr>\n",
       "    <tr>\n",
       "      <th>18</th>\n",
       "      <td>19</td>\n",
       "      <td>Romania</td>\n",
       "      <td>45.9432</td>\n",
       "      <td>24.9668</td>\n",
       "      <td>3/15/20</td>\n",
       "      <td>131</td>\n",
       "    </tr>\n",
       "    <tr>\n",
       "      <th>19</th>\n",
       "      <td>20</td>\n",
       "      <td>Romania</td>\n",
       "      <td>45.9432</td>\n",
       "      <td>24.9668</td>\n",
       "      <td>3/16/20</td>\n",
       "      <td>158</td>\n",
       "    </tr>\n",
       "  </tbody>\n",
       "</table>\n",
       "<p>80 rows × 6 columns</p>\n",
       "</div>"
      ],
      "text/plain": [
       "    artificial_day   Country/Region      Lat     Long     date  count\n",
       "0                1  North Macedonia  41.6086  21.7453  2/26/20      1\n",
       "1                2  North Macedonia  41.6086  21.7453  2/27/20      1\n",
       "2                3  North Macedonia  41.6086  21.7453  2/28/20      1\n",
       "3                4  North Macedonia  41.6086  21.7453  2/29/20      1\n",
       "4                5  North Macedonia  41.6086  21.7453   3/1/20      1\n",
       "..             ...              ...      ...      ...      ...    ...\n",
       "15              16          Romania  45.9432  24.9668  3/12/20     49\n",
       "16              17          Romania  45.9432  24.9668  3/13/20     89\n",
       "17              18          Romania  45.9432  24.9668  3/14/20    123\n",
       "18              19          Romania  45.9432  24.9668  3/15/20    131\n",
       "19              20          Romania  45.9432  24.9668  3/16/20    158\n",
       "\n",
       "[80 rows x 6 columns]"
      ]
     },
     "execution_count": 66,
     "metadata": {},
     "output_type": "execute_result"
    }
   ],
   "source": [
    "get_max_count_data_by_group(data=interesting_data, group_property='Country/Region')\n",
    "\n",
    "interesting_data"
   ]
  }
 ],
 "metadata": {
  "kernelspec": {
   "display_name": "Python 3",
   "language": "python",
   "name": "python3"
  },
  "language_info": {
   "codemirror_mode": {
    "name": "ipython",
    "version": 3
   },
   "file_extension": ".py",
   "mimetype": "text/x-python",
   "name": "python",
   "nbconvert_exporter": "python",
   "pygments_lexer": "ipython3",
   "version": "3.8.1"
  }
 },
 "nbformat": 4,
 "nbformat_minor": 2
}
